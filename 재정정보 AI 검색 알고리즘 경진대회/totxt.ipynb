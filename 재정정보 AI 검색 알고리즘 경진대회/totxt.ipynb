{
 "cells": [
  {
   "cell_type": "code",
   "execution_count": 2,
   "metadata": {},
   "outputs": [
    {
     "name": "stdout",
     "output_type": "stream",
     "text": [
      "변환 완료: C:\\Users\\wjdwn\\OneDrive\\바탕 화면\\Work\\Dacon\\재정정보 AI 검색 알고리즘 경진대회\\output.txt\n"
     ]
    }
   ],
   "source": [
    "import pymupdf4llm\n",
    "import re\n",
    "from langchain.transformers import pipeline\n",
    "\n",
    "def convert_pdf_to_markdown(file_path):\n",
    "    return pymupdf4llm.to_markdown(file_path)\n",
    "\n",
    "def is_table(text):\n",
    "    return '|' in text and '-|-' in text\n",
    "\n",
    "def convert_table_to_text(table_md):\n",
    "    # WikiBio 모델을 사용하여 표를 텍스트로 변환\n",
    "    generator = pipeline('text2text-generation', model='facebook/bart-large-xsum-samsum')\n",
    "    \n",
    "    # 표 마크다운을 간단한 텍스트로 변환\n",
    "    table_text = table_md.replace('|', ' ').replace('\\n', ' ')\n",
    "    \n",
    "    # WikiBio 모델을 사용하여 텍스트 생성\n",
    "    result = generator(table_text, max_length=150, min_length=30, do_sample=True)\n",
    "    \n",
    "    return result[0]['generated_text']\n",
    "\n",
    "def process_markdown(md_text):\n",
    "    lines = md_text.split('\\n')\n",
    "    processed_text = []\n",
    "    current_table = []\n",
    "    in_table = False\n",
    "\n",
    "    for line in lines:\n",
    "        if is_table(line):\n",
    "            if not in_table:\n",
    "                in_table = True\n",
    "            current_table.append(line)\n",
    "        else:\n",
    "            if in_table:\n",
    "                # 표 처리 완료, 텍스트로 변환\n",
    "                table_text = convert_table_to_text('\\n'.join(current_table))\n",
    "                processed_text.append(table_text)\n",
    "                current_table = []\n",
    "                in_table = False\n",
    "            processed_text.append(line)\n",
    "\n",
    "    if current_table:\n",
    "        # 마지막 표 처리\n",
    "        table_text = convert_table_to_text('\\n'.join(current_table))\n",
    "        processed_text.append(table_text)\n",
    "\n",
    "    return '\\n'.join(processed_text)\n",
    "\n",
    "def pdf_to_text_with_table_processing(file_path):\n",
    "    md_text = convert_pdf_to_markdown(file_path)\n",
    "    processed_text = process_markdown(md_text)\n",
    "    return processed_text\n",
    "\n",
    "# 사용 예\n",
    "file_path = './open/test_source/중소벤처기업부_혁신창업사업화자금(융자).pdf'\n",
    "result = pdf_to_text_with_table_processing(file_path)\n",
    "print(result)"
   ]
  },
  {
   "cell_type": "code",
   "execution_count": null,
   "metadata": {},
   "outputs": [],
   "source": []
  }
 ],
 "metadata": {
  "kernelspec": {
   "display_name": "Python 3",
   "language": "python",
   "name": "python3"
  },
  "language_info": {
   "codemirror_mode": {
    "name": "ipython",
    "version": 3
   },
   "file_extension": ".py",
   "mimetype": "text/x-python",
   "name": "python",
   "nbconvert_exporter": "python",
   "pygments_lexer": "ipython3",
   "version": "3.11.0"
  }
 },
 "nbformat": 4,
 "nbformat_minor": 2
}
